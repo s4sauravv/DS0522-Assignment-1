{
 "cells": [
  {
   "cell_type": "code",
   "execution_count": null,
   "id": "a1241bc1",
   "metadata": {},
   "outputs": [],
   "source": [
    "#Assignment 1\n",
    "#Student of DataScience\n",
    "#Student of Datatrained-Saurav"
   ]
  },
  {
   "cell_type": "code",
   "execution_count": 1,
   "id": "1216b7f0",
   "metadata": {},
   "outputs": [],
   "source": [
    "#Python basics\n",
    "#Here you will find lot of basic codes in python to make self practice. Start writing the codes \n",
    "#given below in jupyter notebook.\n",
    "#\n",
    "#While writing the code you will find few task to be completed . Few of them are provided with hint\n",
    "#and solutions.\n",
    "#\n",
    "#And many of task you may complete n your own.\n",
    "#\n",
    "#Happy Practicing!\n",
    "#\n",
    "#\n",
    "#\n",
    "#Practice these commands on Jupyter notebook\n",
    "#\n",
    "# 8+4\n",
    "#\n",
    "#16*5\n",
    "#\n",
    "# 50 - 5*6\n",
    "#\n",
    "#(50 - 5*6) / 4"
   ]
  },
  {
   "cell_type": "code",
   "execution_count": 2,
   "id": "f5fc3307",
   "metadata": {},
   "outputs": [],
   "source": [
    "#1"
   ]
  },
  {
   "cell_type": "code",
   "execution_count": 3,
   "id": "5ace32cf",
   "metadata": {},
   "outputs": [
    {
     "data": {
      "text/plain": [
       "12"
      ]
     },
     "execution_count": 3,
     "metadata": {},
     "output_type": "execute_result"
    }
   ],
   "source": [
    "8+4"
   ]
  },
  {
   "cell_type": "code",
   "execution_count": 4,
   "id": "48cb42ac",
   "metadata": {},
   "outputs": [],
   "source": [
    "#2"
   ]
  },
  {
   "cell_type": "code",
   "execution_count": 5,
   "id": "b8b68901",
   "metadata": {},
   "outputs": [
    {
     "data": {
      "text/plain": [
       "80"
      ]
     },
     "execution_count": 5,
     "metadata": {},
     "output_type": "execute_result"
    }
   ],
   "source": [
    "16*5"
   ]
  },
  {
   "cell_type": "code",
   "execution_count": 6,
   "id": "febfa554",
   "metadata": {},
   "outputs": [],
   "source": [
    "#3"
   ]
  },
  {
   "cell_type": "code",
   "execution_count": 7,
   "id": "800b798a",
   "metadata": {},
   "outputs": [
    {
     "data": {
      "text/plain": [
       "20"
      ]
     },
     "execution_count": 7,
     "metadata": {},
     "output_type": "execute_result"
    }
   ],
   "source": [
    "50 - 5*6"
   ]
  },
  {
   "cell_type": "code",
   "execution_count": 8,
   "id": "237af28c",
   "metadata": {},
   "outputs": [],
   "source": [
    "#4"
   ]
  },
  {
   "cell_type": "code",
   "execution_count": 9,
   "id": "35ff9d8b",
   "metadata": {},
   "outputs": [
    {
     "data": {
      "text/plain": [
       "5.0"
      ]
     },
     "execution_count": 9,
     "metadata": {},
     "output_type": "execute_result"
    }
   ],
   "source": [
    "(50 - 5*6) / 4"
   ]
  },
  {
   "cell_type": "code",
   "execution_count": 10,
   "id": "fc1f4078",
   "metadata": {},
   "outputs": [],
   "source": [
    "# Now Write comment\n",
    "\n",
    "# This is my first program.\n",
    "\n",
    "# It prints the phrase \"Hello, World\"\n",
    "\n",
    "# The comments are longer than the code!\n",
    "\n",
    "#greeting = \"Hello World of Python\"\n",
    "#\n",
    "#print(greeting)\n",
    "#\n",
    "# 8 / 5 # division always returns a floating point number\n",
    "#\n",
    "#17 / 3 # classic division returns a float\n",
    "#\n",
    "#17 // 3 # floor division discards the fractional part\n",
    "#\n",
    "#17 % 3 # the % operator returns the remainder of the division\n",
    "#\n",
    "#5 * 3 + 2 # result * divisor + remainder\n",
    "#\n",
    "# 5 ** 2 # 5 squared\n",
    "#\n",
    "#2 ** 7 # 2 to the power of 7\n",
    "#\n",
    "#width = 20\n",
    "#\n",
    "#height = 5 * 9\n",
    "#\n",
    "#width * height\n",
    "#\n",
    "#print(width)\n",
    "#\n",
    "#print(\"The value of width=\",width) # use single quote\n",
    "#\n",
    "#print('The value of width is=\", width) # use double quote\n",
    "#\n",
    "#print(\"Value=\",width*height)\n",
    "#\n",
    "#"
   ]
  },
  {
   "cell_type": "code",
   "execution_count": 12,
   "id": "908508a3",
   "metadata": {},
   "outputs": [
    {
     "data": {
      "text/plain": [
       "'Hello, World!'"
      ]
     },
     "execution_count": 12,
     "metadata": {},
     "output_type": "execute_result"
    }
   ],
   "source": [
    "\"Hello, World!\""
   ]
  },
  {
   "cell_type": "code",
   "execution_count": 13,
   "id": "8ce9527a",
   "metadata": {},
   "outputs": [],
   "source": [
    "greeting=\"Hello World Of Python\""
   ]
  },
  {
   "cell_type": "code",
   "execution_count": 14,
   "id": "e55bc5a7",
   "metadata": {},
   "outputs": [
    {
     "name": "stdout",
     "output_type": "stream",
     "text": [
      "Hello World Of Python\n"
     ]
    }
   ],
   "source": [
    "print(greeting)"
   ]
  },
  {
   "cell_type": "code",
   "execution_count": 15,
   "id": "e17749af",
   "metadata": {},
   "outputs": [],
   "source": [
    "#division always returns a floating point number"
   ]
  },
  {
   "cell_type": "code",
   "execution_count": 16,
   "id": "30a26ee1",
   "metadata": {},
   "outputs": [
    {
     "data": {
      "text/plain": [
       "1.6"
      ]
     },
     "execution_count": 16,
     "metadata": {},
     "output_type": "execute_result"
    }
   ],
   "source": [
    "8/5"
   ]
  },
  {
   "cell_type": "code",
   "execution_count": 17,
   "id": "2f92090a",
   "metadata": {},
   "outputs": [],
   "source": [
    "#classic division returns a float"
   ]
  },
  {
   "cell_type": "code",
   "execution_count": 19,
   "id": "160ecac8",
   "metadata": {},
   "outputs": [
    {
     "data": {
      "text/plain": [
       "5.666666666666667"
      ]
     },
     "execution_count": 19,
     "metadata": {},
     "output_type": "execute_result"
    }
   ],
   "source": [
    "17/3"
   ]
  },
  {
   "cell_type": "code",
   "execution_count": 20,
   "id": "2b959b08",
   "metadata": {},
   "outputs": [],
   "source": [
    "#floor division discards the fractional part"
   ]
  },
  {
   "cell_type": "code",
   "execution_count": 21,
   "id": "9b76ac47",
   "metadata": {},
   "outputs": [
    {
     "data": {
      "text/plain": [
       "5"
      ]
     },
     "execution_count": 21,
     "metadata": {},
     "output_type": "execute_result"
    }
   ],
   "source": [
    "17//3"
   ]
  },
  {
   "cell_type": "code",
   "execution_count": 22,
   "id": "dff47e2f",
   "metadata": {},
   "outputs": [],
   "source": [
    "#the % operator returns the remainder of the division"
   ]
  },
  {
   "cell_type": "code",
   "execution_count": 23,
   "id": "3c32ecea",
   "metadata": {},
   "outputs": [
    {
     "data": {
      "text/plain": [
       "2"
      ]
     },
     "execution_count": 23,
     "metadata": {},
     "output_type": "execute_result"
    }
   ],
   "source": [
    "17%3"
   ]
  },
  {
   "cell_type": "code",
   "execution_count": 24,
   "id": "4d711380",
   "metadata": {},
   "outputs": [],
   "source": [
    " #result * divisor + remainder"
   ]
  },
  {
   "cell_type": "code",
   "execution_count": 25,
   "id": "f8b55aa9",
   "metadata": {},
   "outputs": [
    {
     "data": {
      "text/plain": [
       "17"
      ]
     },
     "execution_count": 25,
     "metadata": {},
     "output_type": "execute_result"
    }
   ],
   "source": [
    "5*3+2"
   ]
  },
  {
   "cell_type": "code",
   "execution_count": 26,
   "id": "99080ca3",
   "metadata": {},
   "outputs": [],
   "source": [
    "#5 squared"
   ]
  },
  {
   "cell_type": "code",
   "execution_count": 27,
   "id": "c4d97f31",
   "metadata": {},
   "outputs": [
    {
     "data": {
      "text/plain": [
       "25"
      ]
     },
     "execution_count": 27,
     "metadata": {},
     "output_type": "execute_result"
    }
   ],
   "source": [
    "5**2"
   ]
  },
  {
   "cell_type": "code",
   "execution_count": 28,
   "id": "720e4412",
   "metadata": {},
   "outputs": [],
   "source": [
    "#2 to the power of 7"
   ]
  },
  {
   "cell_type": "code",
   "execution_count": 29,
   "id": "3d05c3a6",
   "metadata": {},
   "outputs": [
    {
     "data": {
      "text/plain": [
       "128"
      ]
     },
     "execution_count": 29,
     "metadata": {},
     "output_type": "execute_result"
    }
   ],
   "source": [
    "2**7"
   ]
  },
  {
   "cell_type": "code",
   "execution_count": 30,
   "id": "bde9d3ae",
   "metadata": {},
   "outputs": [],
   "source": [
    "#width = 20\n",
    "#\n",
    "#height = 5 * 9\n",
    "#\n",
    "#width * height\n",
    "#\n",
    "#print(width)"
   ]
  },
  {
   "cell_type": "code",
   "execution_count": 36,
   "id": "a13872ca",
   "metadata": {},
   "outputs": [],
   "source": [
    "width=20\n"
   ]
  },
  {
   "cell_type": "code",
   "execution_count": 41,
   "id": "106c1502",
   "metadata": {},
   "outputs": [],
   "source": [
    "height=5*9"
   ]
  },
  {
   "cell_type": "code",
   "execution_count": 42,
   "id": "5d7a8d38",
   "metadata": {},
   "outputs": [
    {
     "data": {
      "text/plain": [
       "900"
      ]
     },
     "execution_count": 42,
     "metadata": {},
     "output_type": "execute_result"
    }
   ],
   "source": [
    "width * height"
   ]
  },
  {
   "cell_type": "code",
   "execution_count": 43,
   "id": "e999809b",
   "metadata": {},
   "outputs": [
    {
     "name": "stdout",
     "output_type": "stream",
     "text": [
      "20\n"
     ]
    }
   ],
   "source": [
    "print(width)"
   ]
  },
  {
   "cell_type": "code",
   "execution_count": 45,
   "id": "ce474c6f",
   "metadata": {},
   "outputs": [],
   "source": [
    "#print(\"The value of width=\",width) # use single quote"
   ]
  },
  {
   "cell_type": "code",
   "execution_count": 52,
   "id": "38b1b78d",
   "metadata": {},
   "outputs": [
    {
     "name": "stdout",
     "output_type": "stream",
     "text": [
      "The Value of width is =  20\n"
     ]
    }
   ],
   "source": [
    "print('The Value of width is = ',width)"
   ]
  },
  {
   "cell_type": "code",
   "execution_count": 48,
   "id": "a3eff293",
   "metadata": {},
   "outputs": [],
   "source": [
    "#print('The value of width is=\", width) # use double quote"
   ]
  },
  {
   "cell_type": "code",
   "execution_count": 50,
   "id": "2399f553",
   "metadata": {},
   "outputs": [
    {
     "name": "stdout",
     "output_type": "stream",
     "text": [
      "The value of width is =  20\n"
     ]
    }
   ],
   "source": [
    "print(\"The value of width is = \",width)"
   ]
  },
  {
   "cell_type": "code",
   "execution_count": 53,
   "id": "3885ab77",
   "metadata": {},
   "outputs": [],
   "source": [
    "#print(\"Value=\",width*height"
   ]
  },
  {
   "cell_type": "code",
   "execution_count": 55,
   "id": "88156e47",
   "metadata": {},
   "outputs": [
    {
     "name": "stdout",
     "output_type": "stream",
     "text": [
      "The value of   900\n"
     ]
    }
   ],
   "source": [
    "print(\"The value of  \",width*height)"
   ]
  },
  {
   "cell_type": "code",
   "execution_count": null,
   "id": "a0a2cb0c",
   "metadata": {},
   "outputs": [],
   "source": []
  },
  {
   "cell_type": "code",
   "execution_count": 58,
   "id": "22e619ee",
   "metadata": {},
   "outputs": [],
   "source": [
    "#Task: Now try to print height yourself\n",
    "#\n",
    "#tax = 12.5 / 100\n",
    "#\n",
    "#price = 100.50\n",
    "#\n",
    "#price * tax\n",
    "#\n",
    "#"
   ]
  },
  {
   "cell_type": "code",
   "execution_count": 59,
   "id": "dca21ede",
   "metadata": {},
   "outputs": [],
   "source": [
    "tax=12.5/100"
   ]
  },
  {
   "cell_type": "code",
   "execution_count": 61,
   "id": "c2257196",
   "metadata": {},
   "outputs": [],
   "source": [
    "price=100.50"
   ]
  },
  {
   "cell_type": "code",
   "execution_count": 62,
   "id": "8f233c22",
   "metadata": {},
   "outputs": [
    {
     "data": {
      "text/plain": [
       "12.5625"
      ]
     },
     "execution_count": 62,
     "metadata": {},
     "output_type": "execute_result"
    }
   ],
   "source": [
    "price*tax"
   ]
  },
  {
   "cell_type": "code",
   "execution_count": 63,
   "id": "286d0937",
   "metadata": {},
   "outputs": [],
   "source": [
    "#Task: Now try to print tax and price yourself\n",
    "#\n",
    "## String concatenation\n",
    "#\n",
    "#\"The \"+\"Sun\"\n",
    "#\n",
    "#\"The \"+\"Moon\"\n",
    "#\n",
    "#\"Planets\"+\" Universe\"\n",
    "#\n",
    "#string1 = \"Elon\"\n",
    "#\n",
    "#string2 = \"Musk\"\n",
    "#\n",
    "#magic_string = string1 + string2\n",
    "#\n",
    "#magic_string\n",
    "#"
   ]
  },
  {
   "cell_type": "code",
   "execution_count": 64,
   "id": "5c6be3ec",
   "metadata": {},
   "outputs": [
    {
     "data": {
      "text/plain": [
       "'TheSun'"
      ]
     },
     "execution_count": 64,
     "metadata": {},
     "output_type": "execute_result"
    }
   ],
   "source": [
    "\"The\" + \"Sun\""
   ]
  },
  {
   "cell_type": "code",
   "execution_count": 65,
   "id": "c08cb65b",
   "metadata": {},
   "outputs": [
    {
     "data": {
      "text/plain": [
       "'The Moon'"
      ]
     },
     "execution_count": 65,
     "metadata": {},
     "output_type": "execute_result"
    }
   ],
   "source": [
    "\"The Moon\""
   ]
  },
  {
   "cell_type": "code",
   "execution_count": 67,
   "id": "6a19fcf9",
   "metadata": {},
   "outputs": [
    {
     "data": {
      "text/plain": [
       "'PlanetUniverse'"
      ]
     },
     "execution_count": 67,
     "metadata": {},
     "output_type": "execute_result"
    }
   ],
   "source": [
    "\"Planet\" + \"Universe\""
   ]
  },
  {
   "cell_type": "code",
   "execution_count": 71,
   "id": "3c025491",
   "metadata": {},
   "outputs": [
    {
     "name": "stdout",
     "output_type": "stream",
     "text": [
      "ElonMusk\n"
     ]
    }
   ],
   "source": [
    "string1=\"Elon\"\n",
    "string2=\"Musk\"\n",
    "magic_string=string1+ string2\n",
    "print(magic_string)"
   ]
  },
  {
   "cell_type": "code",
   "execution_count": 72,
   "id": "273beaeb",
   "metadata": {},
   "outputs": [],
   "source": [
    "#Task : Make variable firstname and lastname and concatnate them with space.\n",
    "#\n",
    "#Soln.\n",
    "#\n",
    "#first_name = \"Arthur\"\n",
    "#\n",
    "#last_name = \"Dent\"\n",
    "#\n",
    "#full_name = first_name + \" \" + last_name\n",
    "#\n",
    "#full_name\n"
   ]
  },
  {
   "cell_type": "code",
   "execution_count": 74,
   "id": "e5140518",
   "metadata": {},
   "outputs": [
    {
     "name": "stdout",
     "output_type": "stream",
     "text": [
      "Arthur Dent\n"
     ]
    }
   ],
   "source": [
    "first_name=\"Arthur\"\n",
    "last_name=\"Dent\"\n",
    "full_name=first_name+\" \"+last_name\n",
    "print(full_name)"
   ]
  },
  {
   "cell_type": "code",
   "execution_count": 75,
   "id": "9f017ad6",
   "metadata": {},
   "outputs": [],
   "source": [
    "#Task:\n",
    "#\n",
    "#1. Create two strings, concatenate them, and print the resulting\n",
    "#\n",
    "#string.\n",
    "#\n",
    "\n"
   ]
  },
  {
   "cell_type": "code",
   "execution_count": 76,
   "id": "1907eb59",
   "metadata": {},
   "outputs": [
    {
     "name": "stdout",
     "output_type": "stream",
     "text": [
      "NupurSharma\n"
     ]
    }
   ],
   "source": [
    "first_name=\"Nupur\"\n",
    "last_name=\"Sharma\"\n",
    "full_name=first_name+last_name\n",
    "print(full_name)"
   ]
  },
  {
   "cell_type": "code",
   "execution_count": null,
   "id": "e58059ce",
   "metadata": {},
   "outputs": [],
   "source": [
    "#2. Create two strings, use concatenation to add a space between them,\n",
    "#\n",
    "#and print the result.\n",
    "#"
   ]
  },
  {
   "cell_type": "code",
   "execution_count": 78,
   "id": "6c86ac9a",
   "metadata": {},
   "outputs": [
    {
     "name": "stdout",
     "output_type": "stream",
     "text": [
      "Nupur Sharma\n"
     ]
    }
   ],
   "source": [
    "first_name=\"Nupur\"\n",
    "last_name=\"Sharma\"\n",
    "full_name=first_name+\" \"+last_name\n",
    "print(full_name)"
   ]
  },
  {
   "cell_type": "code",
   "execution_count": 80,
   "id": "c0c8f994",
   "metadata": {},
   "outputs": [],
   "source": [
    "## User Input\n",
    "#prompt = \"Hey, what's up? \"\n",
    "#\n",
    "#user_input = input(prompt)\n",
    "#\n",
    "#print(\"You said: \" + user_input)\n",
    "#\n"
   ]
  },
  {
   "cell_type": "code",
   "execution_count": 83,
   "id": "a82f68c2",
   "metadata": {},
   "outputs": [
    {
     "name": "stdout",
     "output_type": "stream",
     "text": [
      "Hey what's up ? Good\n"
     ]
    }
   ],
   "source": [
    "prompt=input(\"Hey what's up ? \")"
   ]
  },
  {
   "cell_type": "code",
   "execution_count": 89,
   "id": "aadb9487",
   "metadata": {},
   "outputs": [
    {
     "name": "stdout",
     "output_type": "stream",
     "text": [
      "Hey bro enter a stringYes\n",
      "You said Yes\n"
     ]
    }
   ],
   "source": [
    "user_input=input(\"Hey bro enter a string\")\n",
    "print(\"You said\" ,user_input)"
   ]
  },
  {
   "cell_type": "code",
   "execution_count": 90,
   "id": "55d07e8b",
   "metadata": {},
   "outputs": [],
   "source": [
    "#Task: Take user input and make twice of that number\n",
    "#\n",
    "#Soln.\n",
    "#\n",
    "#num = input(\"Enter a number to be doubled: \")\n",
    "#\n",
    "#doubled_num = num * 2\n",
    "#\n",
    "#print(doubled_num)\n",
    "#\n",
    "\n",
    "\n"
   ]
  },
  {
   "cell_type": "code",
   "execution_count": 95,
   "id": "db62821d",
   "metadata": {},
   "outputs": [
    {
     "name": "stdout",
     "output_type": "stream",
     "text": [
      "Enter a number to be doubled:  5\n",
      "55\n"
     ]
    }
   ],
   "source": [
    "num=input(\"Enter a number to be doubled:  \")\n",
    "\n",
    "double_num=num * 2\n",
    "print(double_num)"
   ]
  },
  {
   "cell_type": "code",
   "execution_count": null,
   "id": "543d359e",
   "metadata": {},
   "outputs": [],
   "source": [
    "#Task: Take user input and make twice of that number and typecast it to float.\n",
    "#\n",
    "#Soln.\n",
    "#\n",
    "#num = input(\"Enter a number to be doubled: \")\n",
    "#\n",
    "#doubled_num = float(num) * 2\n",
    "#\n",
    "#print(doubled_num)"
   ]
  },
  {
   "cell_type": "code",
   "execution_count": 96,
   "id": "a9fc6eab",
   "metadata": {},
   "outputs": [
    {
     "name": "stdout",
     "output_type": "stream",
     "text": [
      "Enter a Number4\n",
      "44.0\n"
     ]
    }
   ],
   "source": [
    "num=input(\"Enter a Number\")\n",
    "double_num=float(num * 2)\n",
    "print(double_num)\n",
    "\n",
    "\n"
   ]
  },
  {
   "cell_type": "code",
   "execution_count": 97,
   "id": "036638c7",
   "metadata": {},
   "outputs": [],
   "source": [
    "#Task :\n",
    "#\n",
    "#1\n",
    "#\n",
    "# Write a program that uses input() twice to get two numbers from\n",
    "#\n",
    "#the user, multiplies the numbers together, and displays the result.\n",
    "#\n",
    "#If the user enters 2 and 4, then your program should print the\n",
    "#\n",
    "#following text:\n",
    "#\n",
    "#The product of 2 and 4 is 8.0."
   ]
  },
  {
   "cell_type": "code",
   "execution_count": 105,
   "id": "37ca618b",
   "metadata": {},
   "outputs": [
    {
     "name": "stdout",
     "output_type": "stream",
     "text": [
      "Enter Your Number2\n",
      "Enter Your Number4\n",
      "The product of 2 and 4 is 8.0.\n"
     ]
    }
   ],
   "source": [
    "num1=int(input(\"Enter Your Number\"))\n",
    "num2=int(input(\"Enter Your Number\"))\n",
    "multi=num1 * num2\n",
    "print(f\"The product of {num1} and {num2} is {multi}.0.\")"
   ]
  },
  {
   "cell_type": "code",
   "execution_count": 106,
   "id": "be809f17",
   "metadata": {},
   "outputs": [],
   "source": [
    "#Calculate simple interest by taking user input for priciple,rate and time .\n",
    "#Hint:\n",
    "#p=int(input(\"Enter principle\"))\n",
    "#simple_interest=(p*r*t)/100\n"
   ]
  },
  {
   "cell_type": "code",
   "execution_count": 115,
   "id": "8332bb80",
   "metadata": {},
   "outputs": [
    {
     "name": "stdout",
     "output_type": "stream",
     "text": [
      "Enter principle 10000\n",
      "Enter rate 5\n",
      "Enter Time 5\n",
      "2500.0\n"
     ]
    }
   ],
   "source": [
    "P=int(input(\"Enter principle \"))\n",
    "r=int(input(\"Enter rate \"))\n",
    "t=int(input(\"Enter Time \"))\n",
    "simple_intrest=(P*r*t)/100\n",
    "print(simple_intrest)"
   ]
  },
  {
   "cell_type": "code",
   "execution_count": 117,
   "id": "99268810",
   "metadata": {},
   "outputs": [],
   "source": [
    "## Find length\n",
    "#len(\"abc\")\n",
    "#letters = \"abc\"\n",
    "#len(letters)\n",
    "#Task:\n",
    "#Create a string and print its length using len().\n"
   ]
  },
  {
   "cell_type": "code",
   "execution_count": 118,
   "id": "75865b05",
   "metadata": {},
   "outputs": [
    {
     "data": {
      "text/plain": [
       "3"
      ]
     },
     "execution_count": 118,
     "metadata": {},
     "output_type": "execute_result"
    }
   ],
   "source": [
    "len('abc')"
   ]
  },
  {
   "cell_type": "code",
   "execution_count": 119,
   "id": "6cc92a2f",
   "metadata": {},
   "outputs": [
    {
     "data": {
      "text/plain": [
       "3"
      ]
     },
     "execution_count": 119,
     "metadata": {},
     "output_type": "execute_result"
    }
   ],
   "source": [
    "letters=\"abc\"\n",
    "len(letters)"
   ]
  },
  {
   "cell_type": "code",
   "execution_count": 120,
   "id": "e127089a",
   "metadata": {},
   "outputs": [
    {
     "name": "stdout",
     "output_type": "stream",
     "text": [
      "38\n"
     ]
    }
   ],
   "source": [
    "my_self=\"I am Saurav, and am Ex Mining Enginner\"\n",
    "print(len(my_self))"
   ]
  },
  {
   "cell_type": "code",
   "execution_count": null,
   "id": "88617f2f",
   "metadata": {},
   "outputs": [],
   "source": [
    "#Date-03/07/2022\n",
    "#Time-20:44"
   ]
  }
 ],
 "metadata": {
  "kernelspec": {
   "display_name": "Python 3 (ipykernel)",
   "language": "python",
   "name": "python3"
  },
  "language_info": {
   "codemirror_mode": {
    "name": "ipython",
    "version": 3
   },
   "file_extension": ".py",
   "mimetype": "text/x-python",
   "name": "python",
   "nbconvert_exporter": "python",
   "pygments_lexer": "ipython3",
   "version": "3.9.12"
  }
 },
 "nbformat": 4,
 "nbformat_minor": 5
}
